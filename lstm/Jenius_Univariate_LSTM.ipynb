{
 "cells": [
  {
   "cell_type": "markdown",
   "metadata": {},
   "source": [
    "# Jenius - Univariate LSTM\n",
    "Forecasting for Jenius, digital bank in Indonesia\n",
    "\n",
    "Forecast 5 models the following KPIs, that they'll use for strategic planning\n",
    "- Balance\n",
    "- Approved customers\n",
    "- Funded customers\n",
    "- New approved customers: shows the number of the new approved customers for each day. Once a customer downloads the bank's application, they need to get through the KYC (\"know your customer\") process, which means that a representative of a bank should see the customer at least once\n",
    "- Balance forecast\n",
    "\n",
    "Additional data sources:\n",
    "- non-working days (weekends, national holidays)\n",
    "- paydays\n",
    "- dates of campaigns\n",
    "\n",
    "Deliverables:\n",
    "- models for the 5 KPIs\n",
    "- fancy visualizations of the predictions\n",
    "- raw data in Excel format"
   ]
  },
  {
   "cell_type": "code",
   "execution_count": 96,
   "metadata": {},
   "outputs": [],
   "source": [
    "import math\n",
    "import random\n",
    "import warnings\n",
    "import numpy as np\n",
    "import pandas as pd\n",
    "import seaborn as sns\n",
    "from datetime import date\n",
    "import statsmodels.api as sm\n",
    "from fbprophet import Prophet\n",
    "from matplotlib import pyplot\n",
    "from keras.layers import LSTM\n",
    "from keras.layers import Dense\n",
    "import matplotlib.pyplot as plt\n",
    "from sklearn import linear_model\n",
    "from keras.models import Sequential\n",
    "import matplotlib.ticker as plticker\n",
    "from sklearn.metrics import mean_squared_error\n",
    "from sklearn.preprocessing import MinMaxScaler\n",
    "\n",
    "warnings.filterwarnings(\"ignore\")\n",
    "\n",
    "random.seed(1)\n",
    "\n",
    "sns.set(rc={'figure.figsize': (18, 6)})"
   ]
  },
  {
   "cell_type": "code",
   "execution_count": 2,
   "metadata": {},
   "outputs": [],
   "source": [
    "def reduce_memory_usage(df, verbose=True): \n",
    "    numerics = ['int16', 'int32', 'int64', 'float16', 'float32', 'float64'] \n",
    "    start_mem = df.memory_usage().sum() / 1024**2 \n",
    "    if verbose: print('Starting memory usage: {:5.2f} MB'.format(start_mem))\n",
    "\n",
    "    for col in df.columns: \n",
    "        col_type = df[col].dtypes \n",
    "        if col_type in numerics: \n",
    "            c_min = df[col].min() \n",
    "            c_max = df[col].max() \n",
    "            if str(col_type)[:3] == 'int': \n",
    "                if c_min >= np.iinfo(np.int8).min and c_max <= np.iinfo(np.int8).max: \n",
    "                    df[col] = df[col].astype(np.int8) \n",
    "                elif c_min >= np.iinfo(np.int16).min and c_max <= np.iinfo(np.int16).max: \n",
    "                    df[col] = df[col].astype(np.int16) \n",
    "                elif c_min >= np.iinfo(np.int32).min and c_max <= np.iinfo(np.int32).max: \n",
    "                    df[col] = df[col].astype(np.int32) \n",
    "                elif c_min >= np.iinfo(np.int64).min and c_max <= np.iinfo(np.int64).max: \n",
    "                    df[col] = df[col].astype(np.int64)   \n",
    "                else: \n",
    "                    if c_min >= np.finfo(np.float16).min and c_max <= np.finfo(np.float16).max: \n",
    "                        df[col] = df[col].astype(np.float16) \n",
    "                    elif c_min >= np.finfo(np.float32).min and c_max <= np.finfo(np.float32).max: \n",
    "                        df[col] = df[col].astype(np.float32) \n",
    "                    else: \n",
    "                        df[col] = df[col].astype(np.float64)     \n",
    "        end_mem = df.memory_usage().sum() / 1024**2 \n",
    "        if verbose: print('Reduced memory usage: {:5.2f} MB ({:.1f}% reduction)'.format(end_mem, 100 * (start_mem - end_mem) / start_mem)) \n",
    "        return df"
   ]
  },
  {
   "cell_type": "markdown",
   "metadata": {},
   "source": [
    "## Exploratory Data Analysis"
   ]
  },
  {
   "cell_type": "code",
   "execution_count": 26,
   "metadata": {},
   "outputs": [
    {
     "name": "stdout",
     "output_type": "stream",
     "text": [
      "241 records and 2 features in train set.\n",
      "Starting memory usage:  0.00 MB\n",
      "Reduced memory usage:  0.00 MB (0.0% reduction)\n"
     ]
    }
   ],
   "source": [
    "df_input = pd.read_csv('input/input.csv', sep=';', engine='python')\n",
    "print(\"{:,} records and {} features in train set.\".format(df_input.shape[0], df_input.shape[1]))\n",
    "\n",
    "df_input = reduce_memory_usage(df_input)"
   ]
  },
  {
   "cell_type": "code",
   "execution_count": 27,
   "metadata": {},
   "outputs": [
    {
     "data": {
      "text/html": [
       "<div>\n",
       "<style scoped>\n",
       "    .dataframe tbody tr th:only-of-type {\n",
       "        vertical-align: middle;\n",
       "    }\n",
       "\n",
       "    .dataframe tbody tr th {\n",
       "        vertical-align: top;\n",
       "    }\n",
       "\n",
       "    .dataframe thead th {\n",
       "        text-align: right;\n",
       "    }\n",
       "</style>\n",
       "<table border=\"1\" class=\"dataframe\">\n",
       "  <thead>\n",
       "    <tr style=\"text-align: right;\">\n",
       "      <th></th>\n",
       "      <th>buss_date</th>\n",
       "      <th>balance</th>\n",
       "    </tr>\n",
       "  </thead>\n",
       "  <tbody>\n",
       "    <tr>\n",
       "      <th>0</th>\n",
       "      <td>2018.06.01</td>\n",
       "      <td>934,075,825,517</td>\n",
       "    </tr>\n",
       "    <tr>\n",
       "      <th>1</th>\n",
       "      <td>2018.06.02</td>\n",
       "      <td>929,958,070,324</td>\n",
       "    </tr>\n",
       "    <tr>\n",
       "      <th>2</th>\n",
       "      <td>2018.06.03</td>\n",
       "      <td>925,557,302,415</td>\n",
       "    </tr>\n",
       "  </tbody>\n",
       "</table>\n",
       "</div>"
      ],
      "text/plain": [
       "    buss_date         balance\n",
       "0  2018.06.01 934,075,825,517\n",
       "1  2018.06.02 929,958,070,324\n",
       "2  2018.06.03 925,557,302,415"
      ]
     },
     "execution_count": 27,
     "metadata": {},
     "output_type": "execute_result"
    }
   ],
   "source": [
    "pd.options.display.float_format = '{:,.0f}'.format\n",
    "df_input[:3]"
   ]
  },
  {
   "cell_type": "markdown",
   "metadata": {},
   "source": [
    "### Univariate LSTM\n",
    "Inspired by [Time Series Prediction with LSTM Recurrent Neural Networks in Python with Keras](https://machinelearningmastery.com/time-series-prediction-lstm-recurrent-neural-networks-python-keras/)"
   ]
  },
  {
   "cell_type": "code",
   "execution_count": 28,
   "metadata": {},
   "outputs": [
    {
     "data": {
      "text/plain": [
       "[<matplotlib.lines.Line2D at 0x7f6f1c131780>]"
      ]
     },
     "execution_count": 28,
     "metadata": {},
     "output_type": "execute_result"
    },
    {
     "data": {
      "image/png": "[encoded data removed]",
      "text/plain": [
       "<matplotlib.figure.Figure at 0x7f6f1c3500f0>"
      ]
     },
     "metadata": {
      "needs_background": "light"
     },
     "output_type": "display_data"
    }
   ],
   "source": [
    "plt.figure(1, figsize=(15, 6))\n",
    "plt.plot(df_input['balance'])"
   ]
  },
  {
   "cell_type": "code",
   "execution_count": 29,
   "metadata": {},
   "outputs": [],
   "source": [
    "df_input = df_input.fillna(method='bfill')\n",
    "\n",
    "dataset = df_input['balance'].values\n",
    "dataset = dataset.astype('float32')"
   ]
  },
  {
   "cell_type": "code",
   "execution_count": 13,
   "metadata": {},
   "outputs": [],
   "source": [
    "scaler = MinMaxScaler(feature_range=(0, 1))\n",
    "dataset = scaler.fit_transform(dataset)"
   ]
  },
  {
   "cell_type": "code",
   "execution_count": 14,
   "metadata": {},
   "outputs": [],
   "source": [
    "train_size = int(len(dataset) * 0.67)\n",
    "test_size = len(dataset) - train_size\n",
    "train, test = dataset[0:train_size,:], dataset[train_size:len(dataset),:]"
   ]
  },
  {
   "cell_type": "code",
   "execution_count": 15,
   "metadata": {},
   "outputs": [
    {
     "data": {
      "text/plain": [
       "(161, 80)"
      ]
     },
     "execution_count": 15,
     "metadata": {},
     "output_type": "execute_result"
    }
   ],
   "source": [
    "len(train), len(test)"
   ]
  },
  {
   "cell_type": "code",
   "execution_count": 16,
   "metadata": {},
   "outputs": [],
   "source": [
    "def create_dataset(dataset, look_back=1):\n",
    "    dataX, dataY = [], []\n",
    "    for i in range(len(dataset)-look_back-1):\n",
    "        a = dataset[i:(i+look_back), 0]\n",
    "        dataX.append(a)\n",
    "        dataY.append(dataset[i + look_back, 0])\n",
    "    return np.array(dataX), np.array(dataY)"
   ]
  },
  {
   "cell_type": "code",
   "execution_count": 17,
   "metadata": {},
   "outputs": [],
   "source": [
    "look_back = 1\n",
    "trainX, trainY = create_dataset(train, look_back)\n",
    "testX, testY = create_dataset(test, look_back)"
   ]
  },
  {
   "cell_type": "code",
   "execution_count": 18,
   "metadata": {},
   "outputs": [],
   "source": [
    "trainX = np.reshape(trainX, (trainX.shape[0], 1, trainX.shape[1]))\n",
    "testX = np.reshape(testX, (testX.shape[0], 1, testX.shape[1]))"
   ]
  },
  {
   "cell_type": "code",
   "execution_count": 19,
   "metadata": {
    "scrolled": false
   },
   "outputs": [
    {
     "name": "stdout",
     "output_type": "stream",
     "text": [
      "Epoch 1/50\n",
      " - 1s - loss: 0.0563\n",
      "Epoch 2/50\n",
      " - 0s - loss: 0.0256\n",
      "Epoch 3/50\n",
      " - 0s - loss: 0.0201\n",
      "Epoch 4/50\n",
      " - 0s - loss: 0.0178\n",
      "Epoch 5/50\n",
      " - 0s - loss: 0.0157\n",
      "Epoch 6/50\n",
      " - 0s - loss: 0.0134\n",
      "Epoch 7/50\n",
      " - 0s - loss: 0.0110\n",
      "Epoch 8/50\n",
      " - 0s - loss: 0.0085\n",
      "Epoch 9/50\n",
      " - 0s - loss: 0.0061\n",
      "Epoch 10/50\n",
      " - 0s - loss: 0.0039\n",
      "Epoch 11/50\n",
      " - 0s - loss: 0.0023\n",
      "Epoch 12/50\n",
      " - 0s - loss: 0.0011\n",
      "Epoch 13/50\n",
      " - 0s - loss: 5.3132e-04\n",
      "Epoch 14/50\n",
      " - 0s - loss: 2.5393e-04\n",
      "Epoch 15/50\n",
      " - 0s - loss: 1.5357e-04\n",
      "Epoch 16/50\n",
      " - 0s - loss: 1.1849e-04\n",
      "Epoch 17/50\n",
      " - 0s - loss: 1.1181e-04\n",
      "Epoch 18/50\n",
      " - 0s - loss: 1.1077e-04\n",
      "Epoch 19/50\n",
      " - 0s - loss: 1.1213e-04\n",
      "Epoch 20/50\n",
      " - 0s - loss: 1.1009e-04\n",
      "Epoch 21/50\n",
      " - 0s - loss: 1.0945e-04\n",
      "Epoch 22/50\n",
      " - 0s - loss: 1.0802e-04\n",
      "Epoch 23/50\n",
      " - 0s - loss: 1.0876e-04\n",
      "Epoch 24/50\n",
      " - 0s - loss: 1.1068e-04\n",
      "Epoch 25/50\n",
      " - 0s - loss: 1.1112e-04\n",
      "Epoch 26/50\n",
      " - 0s - loss: 1.1043e-04\n",
      "Epoch 27/50\n",
      " - 0s - loss: 1.0979e-04\n",
      "Epoch 28/50\n",
      " - 0s - loss: 1.0974e-04\n",
      "Epoch 29/50\n",
      " - 0s - loss: 1.0620e-04\n",
      "Epoch 30/50\n",
      " - 0s - loss: 1.1447e-04\n",
      "Epoch 31/50\n",
      " - 0s - loss: 1.1145e-04\n",
      "Epoch 32/50\n",
      " - 0s - loss: 1.1504e-04\n",
      "Epoch 33/50\n",
      " - 0s - loss: 1.1340e-04\n",
      "Epoch 34/50\n",
      " - 0s - loss: 1.0769e-04\n",
      "Epoch 35/50\n",
      " - 0s - loss: 1.1973e-04\n",
      "Epoch 36/50\n",
      " - 0s - loss: 1.0785e-04\n",
      "Epoch 37/50\n",
      " - 0s - loss: 1.1836e-04\n",
      "Epoch 38/50\n",
      " - 0s - loss: 1.2043e-04\n",
      "Epoch 39/50\n",
      " - 0s - loss: 1.1710e-04\n",
      "Epoch 40/50\n",
      " - 0s - loss: 1.0961e-04\n",
      "Epoch 41/50\n",
      " - 0s - loss: 1.1207e-04\n",
      "Epoch 42/50\n",
      " - 0s - loss: 1.0838e-04\n",
      "Epoch 43/50\n",
      " - 0s - loss: 1.1432e-04\n",
      "Epoch 44/50\n",
      " - 0s - loss: 1.0711e-04\n",
      "Epoch 45/50\n",
      " - 0s - loss: 1.0812e-04\n",
      "Epoch 46/50\n",
      " - 0s - loss: 1.1140e-04\n",
      "Epoch 47/50\n",
      " - 0s - loss: 1.1381e-04\n",
      "Epoch 48/50\n",
      " - 0s - loss: 1.1404e-04\n",
      "Epoch 49/50\n",
      " - 0s - loss: 1.0887e-04\n",
      "Epoch 50/50\n",
      " - 0s - loss: 1.0852e-04\n"
     ]
    },
    {
     "data": {
      "text/plain": [
       "<keras.callbacks.History at 0x7f6f1f6caba8>"
      ]
     },
     "execution_count": 19,
     "metadata": {},
     "output_type": "execute_result"
    }
   ],
   "source": [
    "model = Sequential()\n",
    "model.add(LSTM(4, input_shape=(1, look_back)))\n",
    "model.add(Dense(1))\n",
    "model.compile(loss='mean_squared_error', optimizer='adam')\n",
    "model.fit(trainX, trainY, epochs=50, batch_size=1, verbose=2)"
   ]
  },
  {
   "cell_type": "code",
   "execution_count": 20,
   "metadata": {},
   "outputs": [
    {
     "name": "stdout",
     "output_type": "stream",
     "text": [
      "Train Score: 14536805633.42 RMSE\n",
      "Test Score: 63559005476.00 RMSE\n"
     ]
    }
   ],
   "source": [
    "trainPredict = model.predict(trainX)\n",
    "testPredict = model.predict(testX)\n",
    "\n",
    "# invert predictions\n",
    "trainPredict = scaler.inverse_transform(trainPredict)\n",
    "trainY = scaler.inverse_transform([trainY])\n",
    "testPredict = scaler.inverse_transform(testPredict)\n",
    "testY = scaler.inverse_transform([testY])\n",
    "\n",
    "# calculate root mean squared error\n",
    "trainScore = math.sqrt(mean_squared_error(trainY[0], trainPredict[:,0]))\n",
    "print('Train Score: %.2f RMSE' % (trainScore))\n",
    "testScore = math.sqrt(mean_squared_error(testY[0], testPredict[:,0]))\n",
    "print('Test Score: %.2f RMSE' % (testScore))"
   ]
  },
  {
   "cell_type": "code",
   "execution_count": 25,
   "metadata": {},
   "outputs": [
    {
     "data": {
      "image/png": "[encoded data removed]",
      "text/plain": [
       "<matplotlib.figure.Figure at 0x7f6f1c30b748>"
      ]
     },
     "metadata": {
      "needs_background": "light"
     },
     "output_type": "display_data"
    }
   ],
   "source": [
    "trainPredictPlot = np.empty_like(dataset)\n",
    "trainPredictPlot[:, :] = np.nan\n",
    "trainPredictPlot[look_back:len(trainPredict)+look_back, :] = trainPredict\n",
    "\n",
    "# shift test predictions for plotting\n",
    "testPredictPlot = np.empty_like(dataset)\n",
    "testPredictPlot[:, :] = np.nan\n",
    "testPredictPlot[len(trainPredict)+(look_back*2)+1:len(dataset)-1, :] = testPredict\n",
    "\n",
    "# plot baseline and predictions\n",
    "plt.figure(1, figsize=(15, 6))\n",
    "plt.plot(scaler.inverse_transform(dataset), label='original')\n",
    "plt.plot(trainPredictPlot, label='train prediction')\n",
    "plt.plot(testPredictPlot, label='test prediction')\n",
    "plt.legend()\n",
    "plt.show()"
   ]
  },
  {
   "cell_type": "code",
   "execution_count": 73,
   "metadata": {},
   "outputs": [],
   "source": [
    "viz = pd.DataFrame(data={\n",
    "    'date': df_input['buss_date'].values,\n",
    "    'balance': np.concatenate((trainPredictPlot[:train_size,0], testPredictPlot[train_size:,0]))\n",
    "})"
   ]
  },
  {
   "cell_type": "code",
   "execution_count": 95,
   "metadata": {},
   "outputs": [
    {
     "data": {
      "image/png": "[encoded data removed]",
      "text/plain": [
       "<matplotlib.figure.Figure at 0x7f6efcda67b8>"
      ]
     },
     "metadata": {},
     "output_type": "display_data"
    }
   ],
   "source": [
    "\n",
    "\n",
    "sns.set(rc={\n",
    "    'figure.figsize': (15, 6),\n",
    "    'xtick.labelsize': 7\n",
    "})\n",
    "\n",
    "ax = sns.lineplot(x=\"date\", y=\"balance\", data=viz)\n",
    "plt.xticks(rotation=45)\n",
    "\n",
    "loc = plticker.MultipleLocator(base=5.0)\n",
    "ax.xaxis.set_major_locator(loc)\n",
    "\n",
    "plt.show()"
   ]
  }
 ],
 "metadata": {
  "kernelspec": {
   "display_name": "Python 3",
   "language": "python",
   "name": "python3"
  },
  "language_info": {
   "codemirror_mode": {
    "name": "ipython",
    "version": 3
   },
   "file_extension": ".py",
   "mimetype": "text/x-python",
   "name": "python",
   "nbconvert_exporter": "python",
   "pygments_lexer": "ipython3",
   "version": "3.6.0"
  },
  "toc": {
   "base_numbering": 1,
   "nav_menu": {},
   "number_sections": true,
   "sideBar": true,
   "skip_h1_title": true,
   "title_cell": "Table of Contents",
   "title_sidebar": "Contents",
   "toc_cell": false,
   "toc_position": {
    "height": "calc(100% - 180px)",
    "left": "10px",
    "top": "150px",
    "width": "220px"
   },
   "toc_section_display": true,
   "toc_window_display": false
  }
 },
 "nbformat": 4,
 "nbformat_minor": 2
}
