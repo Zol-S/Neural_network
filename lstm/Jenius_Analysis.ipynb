{
 "cells": [
  {
   "cell_type": "markdown",
   "metadata": {},
   "source": [
    "# Jenius\n",
    "Forecasting for Jenius, digital bank in Indonesia"
   ]
  },
  {
   "cell_type": "code",
   "execution_count": 120,
   "metadata": {},
   "outputs": [],
   "source": [
    "#import gc\n",
    "import random\n",
    "import warnings\n",
    "import numpy as np\n",
    "import pandas as pd\n",
    "import seaborn as sns\n",
    "from datetime import date\n",
    "import statsmodels.api as sm\n",
    "from matplotlib import pyplot\n",
    "from keras.layers import LSTM\n",
    "from keras.layers import Dense\n",
    "import matplotlib.pyplot as plt\n",
    "from sklearn import linear_model\n",
    "from keras.models import Sequential\n",
    "from sklearn.metrics import mean_squared_error\n",
    "from sklearn.preprocessing import MinMaxScaler\n",
    "\n",
    "warnings.filterwarnings(\"ignore\")\n",
    "\n",
    "random.seed(1)\n",
    "\n",
    "sns.set(rc={'figure.figsize': (15, 6)})"
   ]
  },
  {
   "cell_type": "code",
   "execution_count": 2,
   "metadata": {},
   "outputs": [],
   "source": [
    "def reduce_memory_usage(df, verbose=True): \n",
    "    numerics = ['int16', 'int32', 'int64', 'float16', 'float32', 'float64'] \n",
    "    start_mem = df.memory_usage().sum() / 1024**2 \n",
    "    if verbose: print('Starting memory usage: {:5.2f} MB'.format(start_mem))\n",
    "\n",
    "    for col in df.columns: \n",
    "        col_type = df[col].dtypes \n",
    "        if col_type in numerics: \n",
    "            c_min = df[col].min() \n",
    "            c_max = df[col].max() \n",
    "            if str(col_type)[:3] == 'int': \n",
    "                if c_min >= np.iinfo(np.int8).min and c_max <= np.iinfo(np.int8).max: \n",
    "                    df[col] = df[col].astype(np.int8) \n",
    "                elif c_min >= np.iinfo(np.int16).min and c_max <= np.iinfo(np.int16).max: \n",
    "                    df[col] = df[col].astype(np.int16) \n",
    "                elif c_min >= np.iinfo(np.int32).min and c_max <= np.iinfo(np.int32).max: \n",
    "                    df[col] = df[col].astype(np.int32) \n",
    "                elif c_min >= np.iinfo(np.int64).min and c_max <= np.iinfo(np.int64).max: \n",
    "                    df[col] = df[col].astype(np.int64)   \n",
    "                else: \n",
    "                    if c_min >= np.finfo(np.float16).min and c_max <= np.finfo(np.float16).max: \n",
    "                        df[col] = df[col].astype(np.float16) \n",
    "                    elif c_min >= np.finfo(np.float32).min and c_max <= np.finfo(np.float32).max: \n",
    "                        df[col] = df[col].astype(np.float32) \n",
    "                    else: \n",
    "                        df[col] = df[col].astype(np.float64)     \n",
    "        end_mem = df.memory_usage().sum() / 1024**2 \n",
    "        if verbose: print('Reduced memory usage: {:5.2f} MB ({:.1f}% reduction)'.format(end_mem, 100 * (start_mem - end_mem) / start_mem)) \n",
    "        return df"
   ]
  },
  {
   "cell_type": "code",
   "execution_count": 3,
   "metadata": {},
   "outputs": [],
   "source": [
    "def create_date_features(df, source_column, preposition):\n",
    "    df[preposition + '_year'] = df[source_column].dt.year\n",
    "    df[preposition + '_month'] = df[source_column].dt.month\n",
    "    df[preposition + '_day'] = df[source_column].dt.day\n",
    "    df[preposition + '_hour'] = df[source_column].dt.hour\n",
    "    df[preposition + '_weekofyear'] = df[source_column].dt.weekofyear\n",
    "    df[preposition + '_dayofweek'] = df[source_column].dt.dayofweek\n",
    "    df[preposition + '_weekend'] = (df[source_column].dt.weekday >=5).astype(int)\n",
    "    df[preposition + '_quarter'] = df[source_column].dt.quarter\n",
    "    return df"
   ]
  },
  {
   "cell_type": "markdown",
   "metadata": {},
   "source": [
    "## Exploratory Data Analysis"
   ]
  },
  {
   "cell_type": "code",
   "execution_count": 4,
   "metadata": {},
   "outputs": [
    {
     "name": "stdout",
     "output_type": "stream",
     "text": [
      "241 records and 2 features in train set.\n",
      "Starting memory usage:  0.00 MB\n",
      "Reduced memory usage:  0.00 MB (0.0% reduction)\n"
     ]
    }
   ],
   "source": [
    "df_input = pd.read_csv('input/input.csv', sep=';', parse_dates=['buss_date'])\n",
    "print(\"{:,} records and {} features in train set.\".format(df_input.shape[0], df_input.shape[1]))\n",
    "\n",
    "df_input = reduce_memory_usage(df_input)"
   ]
  },
  {
   "cell_type": "code",
   "execution_count": 5,
   "metadata": {},
   "outputs": [],
   "source": [
    "df_input = create_date_features(df_input, 'buss_date', 'buss')"
   ]
  },
  {
   "cell_type": "code",
   "execution_count": 105,
   "metadata": {},
   "outputs": [
    {
     "data": {
      "text/html": [
       "<div>\n",
       "<style scoped>\n",
       "    .dataframe tbody tr th:only-of-type {\n",
       "        vertical-align: middle;\n",
       "    }\n",
       "\n",
       "    .dataframe tbody tr th {\n",
       "        vertical-align: top;\n",
       "    }\n",
       "\n",
       "    .dataframe thead th {\n",
       "        text-align: right;\n",
       "    }\n",
       "</style>\n",
       "<table border=\"1\" class=\"dataframe\">\n",
       "  <thead>\n",
       "    <tr style=\"text-align: right;\">\n",
       "      <th></th>\n",
       "      <th>buss_date</th>\n",
       "      <th>balance</th>\n",
       "      <th>buss_year</th>\n",
       "      <th>buss_month</th>\n",
       "      <th>buss_day</th>\n",
       "      <th>buss_hour</th>\n",
       "      <th>buss_weekofyear</th>\n",
       "      <th>buss_dayofweek</th>\n",
       "      <th>buss_weekend</th>\n",
       "      <th>buss_quarter</th>\n",
       "    </tr>\n",
       "  </thead>\n",
       "  <tbody>\n",
       "    <tr>\n",
       "      <th>0</th>\n",
       "      <td>2018-06-01</td>\n",
       "      <td>934,075,825,517</td>\n",
       "      <td>2018</td>\n",
       "      <td>6</td>\n",
       "      <td>1</td>\n",
       "      <td>0</td>\n",
       "      <td>22</td>\n",
       "      <td>4</td>\n",
       "      <td>0</td>\n",
       "      <td>2</td>\n",
       "    </tr>\n",
       "    <tr>\n",
       "      <th>1</th>\n",
       "      <td>2018-06-02</td>\n",
       "      <td>929,958,070,324</td>\n",
       "      <td>2018</td>\n",
       "      <td>6</td>\n",
       "      <td>2</td>\n",
       "      <td>0</td>\n",
       "      <td>22</td>\n",
       "      <td>5</td>\n",
       "      <td>1</td>\n",
       "      <td>2</td>\n",
       "    </tr>\n",
       "    <tr>\n",
       "      <th>2</th>\n",
       "      <td>2018-06-03</td>\n",
       "      <td>925,557,302,415</td>\n",
       "      <td>2018</td>\n",
       "      <td>6</td>\n",
       "      <td>3</td>\n",
       "      <td>0</td>\n",
       "      <td>22</td>\n",
       "      <td>6</td>\n",
       "      <td>1</td>\n",
       "      <td>2</td>\n",
       "    </tr>\n",
       "  </tbody>\n",
       "</table>\n",
       "</div>"
      ],
      "text/plain": [
       "   buss_date         balance  buss_year  buss_month  buss_day  buss_hour  \\\n",
       "0 2018-06-01 934,075,825,517       2018           6         1          0   \n",
       "1 2018-06-02 929,958,070,324       2018           6         2          0   \n",
       "2 2018-06-03 925,557,302,415       2018           6         3          0   \n",
       "\n",
       "   buss_weekofyear  buss_dayofweek  buss_weekend  buss_quarter  \n",
       "0               22               4             0             2  \n",
       "1               22               5             1             2  \n",
       "2               22               6             1             2  "
      ]
     },
     "execution_count": 105,
     "metadata": {},
     "output_type": "execute_result"
    }
   ],
   "source": [
    "pd.options.display.float_format = '{:,.0f}'.format\n",
    "df_input[:3]"
   ]
  },
  {
   "cell_type": "markdown",
   "metadata": {},
   "source": [
    "### Loading public holidays"
   ]
  },
  {
   "cell_type": "code",
   "execution_count": 7,
   "metadata": {},
   "outputs": [
    {
     "name": "stdout",
     "output_type": "stream",
     "text": [
      "20 records and 2 features in train set.\n",
      "Starting memory usage:  0.00 MB\n",
      "Reduced memory usage:  0.00 MB (0.0% reduction)\n"
     ]
    }
   ],
   "source": [
    "df_ph = pd.read_csv('input/indonesian_public_holidays_2018-19.csv', sep=';', parse_dates=['date'])\n",
    "print(\"{:,} records and {} features in train set.\".format(df_ph.shape[0], df_ph.shape[1]))\n",
    "\n",
    "df_ph = reduce_memory_usage(df_ph)"
   ]
  },
  {
   "cell_type": "code",
   "execution_count": 8,
   "metadata": {},
   "outputs": [],
   "source": [
    "df_input_ph = df_input.merge(df_ph, left_on='buss_date', right_on='date', how='left')"
   ]
  },
  {
   "cell_type": "code",
   "execution_count": 9,
   "metadata": {},
   "outputs": [
    {
     "data": {
      "text/plain": [
       "((241, 10), (241, 12))"
      ]
     },
     "execution_count": 9,
     "metadata": {},
     "output_type": "execute_result"
    }
   ],
   "source": [
    "df_input.shape, df_input_ph.shape"
   ]
  },
  {
   "cell_type": "code",
   "execution_count": 10,
   "metadata": {},
   "outputs": [],
   "source": [
    "df_input_ph['is_holiday'] = df_input_ph['english_name'].isna() == False\n",
    "df_input_ph.drop(['date', 'english_name'], axis=1, inplace=True)"
   ]
  },
  {
   "cell_type": "markdown",
   "metadata": {},
   "source": [
    "Combining weekends with national holidays"
   ]
  },
  {
   "cell_type": "code",
   "execution_count": 115,
   "metadata": {},
   "outputs": [],
   "source": [
    "df_input_ph['is_workday'] = np.logical_or(df_input_ph['buss_dayofweek'] > 4, df_input_ph['is_holiday'])"
   ]
  },
  {
   "cell_type": "code",
   "execution_count": 117,
   "metadata": {},
   "outputs": [
    {
     "data": {
      "text/html": [
       "<div>\n",
       "<style scoped>\n",
       "    .dataframe tbody tr th:only-of-type {\n",
       "        vertical-align: middle;\n",
       "    }\n",
       "\n",
       "    .dataframe tbody tr th {\n",
       "        vertical-align: top;\n",
       "    }\n",
       "\n",
       "    .dataframe thead th {\n",
       "        text-align: right;\n",
       "    }\n",
       "</style>\n",
       "<table border=\"1\" class=\"dataframe\">\n",
       "  <thead>\n",
       "    <tr style=\"text-align: right;\">\n",
       "      <th></th>\n",
       "      <th>buss_date</th>\n",
       "      <th>buss_dayofweek</th>\n",
       "      <th>is_holiday</th>\n",
       "      <th>is_workday</th>\n",
       "    </tr>\n",
       "  </thead>\n",
       "  <tbody>\n",
       "    <tr>\n",
       "      <th>0</th>\n",
       "      <td>2018-06-01</td>\n",
       "      <td>4</td>\n",
       "      <td>True</td>\n",
       "      <td>True</td>\n",
       "    </tr>\n",
       "    <tr>\n",
       "      <th>1</th>\n",
       "      <td>2018-06-02</td>\n",
       "      <td>5</td>\n",
       "      <td>False</td>\n",
       "      <td>True</td>\n",
       "    </tr>\n",
       "    <tr>\n",
       "      <th>2</th>\n",
       "      <td>2018-06-03</td>\n",
       "      <td>6</td>\n",
       "      <td>False</td>\n",
       "      <td>True</td>\n",
       "    </tr>\n",
       "    <tr>\n",
       "      <th>3</th>\n",
       "      <td>2018-06-04</td>\n",
       "      <td>0</td>\n",
       "      <td>False</td>\n",
       "      <td>False</td>\n",
       "    </tr>\n",
       "    <tr>\n",
       "      <th>4</th>\n",
       "      <td>2018-06-05</td>\n",
       "      <td>1</td>\n",
       "      <td>False</td>\n",
       "      <td>False</td>\n",
       "    </tr>\n",
       "  </tbody>\n",
       "</table>\n",
       "</div>"
      ],
      "text/plain": [
       "   buss_date  buss_dayofweek  is_holiday  is_workday\n",
       "0 2018-06-01               4        True        True\n",
       "1 2018-06-02               5       False        True\n",
       "2 2018-06-03               6       False        True\n",
       "3 2018-06-04               0       False       False\n",
       "4 2018-06-05               1       False       False"
      ]
     },
     "execution_count": 117,
     "metadata": {},
     "output_type": "execute_result"
    }
   ],
   "source": [
    "df_input_ph[['buss_date', 'buss_dayofweek', 'is_holiday', 'is_workday']][:5]"
   ]
  },
  {
   "cell_type": "code",
   "execution_count": 11,
   "metadata": {},
   "outputs": [],
   "source": [
    "df_input_ph['balance_delta'] = df_input_ph['balance'].diff(1)\n",
    "df_input_ph['moving_avg'] = df_input_ph['balance_delta'].rolling(window=29, min_periods=24, center=True).mean()"
   ]
  },
  {
   "cell_type": "code",
   "execution_count": 12,
   "metadata": {},
   "outputs": [],
   "source": [
    "df_input_ph['elapsed_days'] = (df_input_ph['buss_date'].dt.date - date(2000, 1, 1)).dt.days"
   ]
  },
  {
   "cell_type": "code",
   "execution_count": 13,
   "metadata": {
    "scrolled": false
   },
   "outputs": [
    {
     "data": {
      "text/html": [
       "<div>\n",
       "<style scoped>\n",
       "    .dataframe tbody tr th:only-of-type {\n",
       "        vertical-align: middle;\n",
       "    }\n",
       "\n",
       "    .dataframe tbody tr th {\n",
       "        vertical-align: top;\n",
       "    }\n",
       "\n",
       "    .dataframe thead th {\n",
       "        text-align: right;\n",
       "    }\n",
       "</style>\n",
       "<table border=\"1\" class=\"dataframe\">\n",
       "  <thead>\n",
       "    <tr style=\"text-align: right;\">\n",
       "      <th></th>\n",
       "      <th>buss_date</th>\n",
       "      <th>elapsed_days</th>\n",
       "      <th>balance</th>\n",
       "      <th>balance_delta</th>\n",
       "      <th>moving_avg</th>\n",
       "    </tr>\n",
       "  </thead>\n",
       "  <tbody>\n",
       "    <tr>\n",
       "      <th>0</th>\n",
       "      <td>2018-06-01</td>\n",
       "      <td>6726</td>\n",
       "      <td>934,075,825,517</td>\n",
       "      <td>nan</td>\n",
       "      <td>nan</td>\n",
       "    </tr>\n",
       "    <tr>\n",
       "      <th>1</th>\n",
       "      <td>2018-06-02</td>\n",
       "      <td>6727</td>\n",
       "      <td>929,958,070,324</td>\n",
       "      <td>-4,117,755,193</td>\n",
       "      <td>nan</td>\n",
       "    </tr>\n",
       "    <tr>\n",
       "      <th>2</th>\n",
       "      <td>2018-06-03</td>\n",
       "      <td>6728</td>\n",
       "      <td>925,557,302,415</td>\n",
       "      <td>-4,400,767,909</td>\n",
       "      <td>nan</td>\n",
       "    </tr>\n",
       "    <tr>\n",
       "      <th>3</th>\n",
       "      <td>2018-06-04</td>\n",
       "      <td>6729</td>\n",
       "      <td>962,233,057,401</td>\n",
       "      <td>36,675,754,986</td>\n",
       "      <td>nan</td>\n",
       "    </tr>\n",
       "    <tr>\n",
       "      <th>4</th>\n",
       "      <td>2018-06-05</td>\n",
       "      <td>6730</td>\n",
       "      <td>967,838,309,834</td>\n",
       "      <td>5,605,252,433</td>\n",
       "      <td>nan</td>\n",
       "    </tr>\n",
       "  </tbody>\n",
       "</table>\n",
       "</div>"
      ],
      "text/plain": [
       "   buss_date  elapsed_days         balance  balance_delta  moving_avg\n",
       "0 2018-06-01          6726 934,075,825,517            nan         nan\n",
       "1 2018-06-02          6727 929,958,070,324 -4,117,755,193         nan\n",
       "2 2018-06-03          6728 925,557,302,415 -4,400,767,909         nan\n",
       "3 2018-06-04          6729 962,233,057,401 36,675,754,986         nan\n",
       "4 2018-06-05          6730 967,838,309,834  5,605,252,433         nan"
      ]
     },
     "execution_count": 13,
     "metadata": {},
     "output_type": "execute_result"
    }
   ],
   "source": [
    "df_input_ph[['buss_date', 'elapsed_days', 'balance', 'balance_delta', 'moving_avg']][0:5]"
   ]
  },
  {
   "cell_type": "code",
   "execution_count": 123,
   "metadata": {},
   "outputs": [
    {
     "data": {
      "image/png": "[encoded data removed]",
      "text/plain": [
       "<matplotlib.figure.Figure at 0x1a3ae7f0>"
      ]
     },
     "metadata": {},
     "output_type": "display_data"
    }
   ],
   "source": [
    "plt.subplot(111)\n",
    "plt.plot(df_input_ph['elapsed_days'][14:232], df_input_ph['moving_avg'][14:232])\n",
    "\n",
    "plt.show()"
   ]
  },
  {
   "cell_type": "markdown",
   "metadata": {},
   "source": [
    "## Regression\n",
    "### Linear regression"
   ]
  },
  {
   "cell_type": "code",
   "execution_count": 14,
   "metadata": {
    "scrolled": false
   },
   "outputs": [
    {
     "data": {
      "text/html": [
       "<table class=\"simpletable\">\n",
       "<caption>OLS Regression Results</caption>\n",
       "<tr>\n",
       "  <th>Dep. Variable:</th>       <td>moving_avg</td>    <th>  R-squared:         </th> <td>   0.869</td>\n",
       "</tr>\n",
       "<tr>\n",
       "  <th>Model:</th>                   <td>OLS</td>       <th>  Adj. R-squared:    </th> <td>   0.868</td>\n",
       "</tr>\n",
       "<tr>\n",
       "  <th>Method:</th>             <td>Least Squares</td>  <th>  F-statistic:       </th> <td>   1435.</td>\n",
       "</tr>\n",
       "<tr>\n",
       "  <th>Date:</th>             <td>Thu, 28 Feb 2019</td> <th>  Prob (F-statistic):</th> <td>1.30e-97</td>\n",
       "</tr>\n",
       "<tr>\n",
       "  <th>Time:</th>                 <td>15:38:55</td>     <th>  Log-Likelihood:    </th> <td> -4980.4</td>\n",
       "</tr>\n",
       "<tr>\n",
       "  <th>No. Observations:</th>      <td>   218</td>      <th>  AIC:               </th> <td>   9963.</td>\n",
       "</tr>\n",
       "<tr>\n",
       "  <th>Df Residuals:</th>          <td>   217</td>      <th>  BIC:               </th> <td>   9966.</td>\n",
       "</tr>\n",
       "<tr>\n",
       "  <th>Df Model:</th>              <td>     1</td>      <th>                     </th>     <td> </td>   \n",
       "</tr>\n",
       "<tr>\n",
       "  <th>Covariance Type:</th>      <td>nonrobust</td>    <th>                     </th>     <td> </td>   \n",
       "</tr>\n",
       "</table>\n",
       "<table class=\"simpletable\">\n",
       "<tr>\n",
       "        <td></td>          <th>coef</th>     <th>std err</th>      <th>t</th>      <th>P>|t|</th>  <th>[0.025</th>    <th>0.975]</th>  \n",
       "</tr>\n",
       "<tr>\n",
       "  <th>elapsed_days</th> <td> 7.588e+05</td> <td>    2e+04</td> <td>   37.882</td> <td> 0.000</td> <td> 7.19e+05</td> <td> 7.98e+05</td>\n",
       "</tr>\n",
       "</table>\n",
       "<table class=\"simpletable\">\n",
       "<tr>\n",
       "  <th>Omnibus:</th>       <td>93.373</td> <th>  Durbin-Watson:     </th> <td>   0.159</td>\n",
       "</tr>\n",
       "<tr>\n",
       "  <th>Prob(Omnibus):</th> <td> 0.000</td> <th>  Jarque-Bera (JB):  </th> <td> 358.740</td>\n",
       "</tr>\n",
       "<tr>\n",
       "  <th>Skew:</th>          <td> 1.742</td> <th>  Prob(JB):          </th> <td>1.26e-78</td>\n",
       "</tr>\n",
       "<tr>\n",
       "  <th>Kurtosis:</th>      <td> 8.230</td> <th>  Cond. No.          </th> <td>    1.00</td>\n",
       "</tr>\n",
       "</table><br/><br/>Warnings:<br/>[1] Standard Errors assume that the covariance matrix of the errors is correctly specified."
      ],
      "text/plain": [
       "<class 'statsmodels.iolib.summary.Summary'>\n",
       "\"\"\"\n",
       "                            OLS Regression Results                            \n",
       "==============================================================================\n",
       "Dep. Variable:             moving_avg   R-squared:                       0.869\n",
       "Model:                            OLS   Adj. R-squared:                  0.868\n",
       "Method:                 Least Squares   F-statistic:                     1435.\n",
       "Date:                Thu, 28 Feb 2019   Prob (F-statistic):           1.30e-97\n",
       "Time:                        15:38:55   Log-Likelihood:                -4980.4\n",
       "No. Observations:                 218   AIC:                             9963.\n",
       "Df Residuals:                     217   BIC:                             9966.\n",
       "Df Model:                           1                                         \n",
       "Covariance Type:            nonrobust                                         \n",
       "================================================================================\n",
       "                   coef    std err          t      P>|t|      [0.025      0.975]\n",
       "--------------------------------------------------------------------------------\n",
       "elapsed_days  7.588e+05      2e+04     37.882      0.000    7.19e+05    7.98e+05\n",
       "==============================================================================\n",
       "Omnibus:                       93.373   Durbin-Watson:                   0.159\n",
       "Prob(Omnibus):                  0.000   Jarque-Bera (JB):              358.740\n",
       "Skew:                           1.742   Prob(JB):                     1.26e-78\n",
       "Kurtosis:                       8.230   Cond. No.                         1.00\n",
       "==============================================================================\n",
       "\n",
       "Warnings:\n",
       "[1] Standard Errors assume that the covariance matrix of the errors is correctly specified.\n",
       "\"\"\""
      ]
     },
     "execution_count": 14,
     "metadata": {},
     "output_type": "execute_result"
    }
   ],
   "source": [
    "model = sm.OLS(df_input_ph['moving_avg'][14:232], df_input_ph['elapsed_days'][14:232], missing='drop').fit()\n",
    "model.summary()"
   ]
  },
  {
   "cell_type": "code",
   "execution_count": 15,
   "metadata": {},
   "outputs": [],
   "source": [
    "df_input_ph['prediction'] = model.predict(df_input_ph['elapsed_days'])"
   ]
  },
  {
   "cell_type": "code",
   "execution_count": 16,
   "metadata": {},
   "outputs": [
    {
     "data": {
      "text/html": [
       "<div>\n",
       "<style scoped>\n",
       "    .dataframe tbody tr th:only-of-type {\n",
       "        vertical-align: middle;\n",
       "    }\n",
       "\n",
       "    .dataframe tbody tr th {\n",
       "        vertical-align: top;\n",
       "    }\n",
       "\n",
       "    .dataframe thead th {\n",
       "        text-align: right;\n",
       "    }\n",
       "</style>\n",
       "<table border=\"1\" class=\"dataframe\">\n",
       "  <thead>\n",
       "    <tr style=\"text-align: right;\">\n",
       "      <th></th>\n",
       "      <th>buss_date</th>\n",
       "      <th>elapsed_days</th>\n",
       "      <th>moving_avg</th>\n",
       "      <th>prediction</th>\n",
       "    </tr>\n",
       "  </thead>\n",
       "  <tbody>\n",
       "    <tr>\n",
       "      <th>0</th>\n",
       "      <td>2018-06-01</td>\n",
       "      <td>6726</td>\n",
       "      <td>nan</td>\n",
       "      <td>5,103,659,716</td>\n",
       "    </tr>\n",
       "    <tr>\n",
       "      <th>1</th>\n",
       "      <td>2018-06-02</td>\n",
       "      <td>6727</td>\n",
       "      <td>nan</td>\n",
       "      <td>5,104,418,512</td>\n",
       "    </tr>\n",
       "    <tr>\n",
       "      <th>2</th>\n",
       "      <td>2018-06-03</td>\n",
       "      <td>6728</td>\n",
       "      <td>nan</td>\n",
       "      <td>5,105,177,308</td>\n",
       "    </tr>\n",
       "    <tr>\n",
       "      <th>3</th>\n",
       "      <td>2018-06-04</td>\n",
       "      <td>6729</td>\n",
       "      <td>nan</td>\n",
       "      <td>5,105,936,103</td>\n",
       "    </tr>\n",
       "    <tr>\n",
       "      <th>4</th>\n",
       "      <td>2018-06-05</td>\n",
       "      <td>6730</td>\n",
       "      <td>nan</td>\n",
       "      <td>5,106,694,899</td>\n",
       "    </tr>\n",
       "    <tr>\n",
       "      <th>5</th>\n",
       "      <td>2018-06-06</td>\n",
       "      <td>6731</td>\n",
       "      <td>nan</td>\n",
       "      <td>5,107,453,695</td>\n",
       "    </tr>\n",
       "    <tr>\n",
       "      <th>6</th>\n",
       "      <td>2018-06-07</td>\n",
       "      <td>6732</td>\n",
       "      <td>nan</td>\n",
       "      <td>5,108,212,490</td>\n",
       "    </tr>\n",
       "    <tr>\n",
       "      <th>7</th>\n",
       "      <td>2018-06-08</td>\n",
       "      <td>6733</td>\n",
       "      <td>nan</td>\n",
       "      <td>5,108,971,286</td>\n",
       "    </tr>\n",
       "    <tr>\n",
       "      <th>8</th>\n",
       "      <td>2018-06-09</td>\n",
       "      <td>6734</td>\n",
       "      <td>nan</td>\n",
       "      <td>5,109,730,082</td>\n",
       "    </tr>\n",
       "    <tr>\n",
       "      <th>9</th>\n",
       "      <td>2018-06-10</td>\n",
       "      <td>6735</td>\n",
       "      <td>nan</td>\n",
       "      <td>5,110,488,877</td>\n",
       "    </tr>\n",
       "  </tbody>\n",
       "</table>\n",
       "</div>"
      ],
      "text/plain": [
       "   buss_date  elapsed_days  moving_avg    prediction\n",
       "0 2018-06-01          6726         nan 5,103,659,716\n",
       "1 2018-06-02          6727         nan 5,104,418,512\n",
       "2 2018-06-03          6728         nan 5,105,177,308\n",
       "3 2018-06-04          6729         nan 5,105,936,103\n",
       "4 2018-06-05          6730         nan 5,106,694,899\n",
       "5 2018-06-06          6731         nan 5,107,453,695\n",
       "6 2018-06-07          6732         nan 5,108,212,490\n",
       "7 2018-06-08          6733         nan 5,108,971,286\n",
       "8 2018-06-09          6734         nan 5,109,730,082\n",
       "9 2018-06-10          6735         nan 5,110,488,877"
      ]
     },
     "execution_count": 16,
     "metadata": {},
     "output_type": "execute_result"
    }
   ],
   "source": [
    "df_input_ph[['buss_date', 'elapsed_days', 'moving_avg', 'prediction']][0:10]"
   ]
  },
  {
   "cell_type": "code",
   "execution_count": 26,
   "metadata": {},
   "outputs": [
    {
     "name": "stdout",
     "output_type": "stream",
     "text": [
      "MSE: 8,903,454.59\n"
     ]
    }
   ],
   "source": [
    "mse = ((df_input_ph['moving_avg']-df_input_ph['prediction'])**2).sum()/100000000000000\n",
    "print(\"MSE: {:,.2f}\".format(mse))"
   ]
  },
  {
   "cell_type": "markdown",
   "metadata": {},
   "source": [
    "## Time series prediction\n",
    "Inspired by [Time Series Prediction with LSTM Recurrent Neural Networks in Python with Keras](https://machinelearningmastery.com/time-series-prediction-lstm-recurrent-neural-networks-python-keras/)"
   ]
  },
  {
   "cell_type": "code",
   "execution_count": 199,
   "metadata": {},
   "outputs": [],
   "source": [
    "ma_max = df_input_ph['moving_avg'].max(axis=0)\n",
    "ma_min = df_input_ph['moving_avg'].min(axis=0)\n",
    "\n",
    "df_input_ph['moving_avg_norm'] = (df_input_ph['moving_avg'] - ma_min) / (ma_max - ma_min)"
   ]
  },
  {
   "cell_type": "code",
   "execution_count": 200,
   "metadata": {},
   "outputs": [],
   "source": [
    "df_input_ph['is_workday'] = df_input_ph['is_workday'].map({True: 1, False: 0})"
   ]
  },
  {
   "cell_type": "markdown",
   "metadata": {},
   "source": [
    "### Univariate LSTM"
   ]
  },
  {
   "cell_type": "code",
   "execution_count": 206,
   "metadata": {},
   "outputs": [],
   "source": [
    "train_size = int(len(df_input_ph) * 0.67)\n",
    "test_size = len(df_input_ph) - train_size\n",
    "train, test = df_input_ph[0:train_size], df_input_ph[train_size:len(df_input_ph)]"
   ]
  },
  {
   "cell_type": "code",
   "execution_count": 207,
   "metadata": {},
   "outputs": [
    {
     "data": {
      "text/plain": [
       "(161, 80)"
      ]
     },
     "execution_count": 207,
     "metadata": {},
     "output_type": "execute_result"
    }
   ],
   "source": [
    "len(train), len(test)"
   ]
  },
  {
   "cell_type": "code",
   "execution_count": 208,
   "metadata": {},
   "outputs": [],
   "source": [
    "trainX = train['moving_avg_norm']\n",
    "trainY = train['moving_avg_norm'].shift(-1)\n",
    "\n",
    "testX = test['moving_avg_norm']\n",
    "testY = test['moving_avg_norm'].shift(-1)"
   ]
  },
  {
   "cell_type": "code",
   "execution_count": 212,
   "metadata": {},
   "outputs": [],
   "source": [
    "trainX = np.reshape(trainX, (trainX.shape[0], 1, 1))\n",
    "testX = np.reshape(testX, (testX.shape[0], 1, 1))"
   ]
  },
  {
   "cell_type": "code",
   "execution_count": 214,
   "metadata": {},
   "outputs": [
    {
     "name": "stdout",
     "output_type": "stream",
     "text": [
      "Epoch 1/100\n",
      " - 2s - loss: nan\n",
      "Epoch 2/100\n",
      " - 0s - loss: nan\n",
      "Epoch 3/100\n",
      " - 0s - loss: nan\n",
      "Epoch 4/100\n",
      " - 0s - loss: nan\n",
      "Epoch 5/100\n",
      " - 0s - loss: nan\n",
      "Epoch 6/100\n",
      " - 0s - loss: nan\n",
      "Epoch 7/100\n",
      " - 0s - loss: nan\n",
      "Epoch 8/100\n",
      " - 0s - loss: nan\n",
      "Epoch 9/100\n",
      " - 0s - loss: nan\n",
      "Epoch 10/100\n",
      " - 0s - loss: nan\n",
      "Epoch 11/100\n",
      " - 0s - loss: nan\n",
      "Epoch 12/100\n",
      " - 0s - loss: nan\n",
      "Epoch 13/100\n",
      " - 0s - loss: nan\n",
      "Epoch 14/100\n",
      " - 0s - loss: nan\n",
      "Epoch 15/100\n",
      " - 0s - loss: nan\n",
      "Epoch 16/100\n",
      " - 0s - loss: nan\n",
      "Epoch 17/100\n",
      " - 0s - loss: nan\n",
      "Epoch 18/100\n",
      " - 0s - loss: nan\n",
      "Epoch 19/100\n",
      " - 0s - loss: nan\n",
      "Epoch 20/100\n",
      " - 0s - loss: nan\n",
      "Epoch 21/100\n",
      " - 0s - loss: nan\n",
      "Epoch 22/100\n",
      " - 0s - loss: nan\n",
      "Epoch 23/100\n",
      " - 0s - loss: nan\n",
      "Epoch 24/100\n",
      " - 0s - loss: nan\n",
      "Epoch 25/100\n",
      " - 0s - loss: nan\n",
      "Epoch 26/100\n",
      " - 0s - loss: nan\n",
      "Epoch 27/100\n",
      " - 0s - loss: nan\n",
      "Epoch 28/100\n",
      " - 0s - loss: nan\n",
      "Epoch 29/100\n",
      " - 0s - loss: nan\n",
      "Epoch 30/100\n",
      " - 0s - loss: nan\n",
      "Epoch 31/100\n",
      " - 0s - loss: nan\n",
      "Epoch 32/100\n",
      " - 0s - loss: nan\n",
      "Epoch 33/100\n",
      " - 0s - loss: nan\n",
      "Epoch 34/100\n",
      " - 0s - loss: nan\n",
      "Epoch 35/100\n",
      " - 0s - loss: nan\n",
      "Epoch 36/100\n",
      " - 0s - loss: nan\n",
      "Epoch 37/100\n",
      " - 0s - loss: nan\n",
      "Epoch 38/100\n",
      " - 0s - loss: nan\n",
      "Epoch 39/100\n",
      " - 0s - loss: nan\n",
      "Epoch 40/100\n",
      " - 0s - loss: nan\n",
      "Epoch 41/100\n",
      " - 0s - loss: nan\n",
      "Epoch 42/100\n",
      " - 0s - loss: nan\n",
      "Epoch 43/100\n",
      " - 0s - loss: nan\n",
      "Epoch 44/100\n",
      " - 0s - loss: nan\n",
      "Epoch 45/100\n",
      " - 0s - loss: nan\n",
      "Epoch 46/100\n",
      " - 0s - loss: nan\n",
      "Epoch 47/100\n",
      " - 0s - loss: nan\n",
      "Epoch 48/100\n",
      " - 0s - loss: nan\n",
      "Epoch 49/100\n",
      " - 0s - loss: nan\n",
      "Epoch 50/100\n",
      " - 0s - loss: nan\n",
      "Epoch 51/100\n",
      " - 0s - loss: nan\n",
      "Epoch 52/100\n",
      " - 0s - loss: nan\n",
      "Epoch 53/100\n",
      " - 0s - loss: nan\n",
      "Epoch 54/100\n",
      " - 0s - loss: nan\n",
      "Epoch 55/100\n",
      " - 0s - loss: nan\n",
      "Epoch 56/100\n",
      " - 0s - loss: nan\n",
      "Epoch 57/100\n",
      " - 0s - loss: nan\n",
      "Epoch 58/100\n",
      " - 0s - loss: nan\n",
      "Epoch 59/100\n",
      " - 0s - loss: nan\n",
      "Epoch 60/100\n",
      " - 0s - loss: nan\n",
      "Epoch 61/100\n",
      " - 0s - loss: nan\n",
      "Epoch 62/100\n",
      " - 0s - loss: nan\n",
      "Epoch 63/100\n",
      " - 0s - loss: nan\n",
      "Epoch 64/100\n",
      " - 0s - loss: nan\n",
      "Epoch 65/100\n",
      " - 0s - loss: nan\n",
      "Epoch 66/100\n",
      " - 0s - loss: nan\n",
      "Epoch 67/100\n",
      " - 0s - loss: nan\n",
      "Epoch 68/100\n",
      " - 0s - loss: nan\n",
      "Epoch 69/100\n",
      " - 0s - loss: nan\n",
      "Epoch 70/100\n",
      " - 0s - loss: nan\n",
      "Epoch 71/100\n",
      " - 0s - loss: nan\n",
      "Epoch 72/100\n",
      " - 0s - loss: nan\n",
      "Epoch 73/100\n",
      " - 0s - loss: nan\n",
      "Epoch 74/100\n",
      " - 0s - loss: nan\n",
      "Epoch 75/100\n",
      " - 0s - loss: nan\n",
      "Epoch 76/100\n",
      " - 0s - loss: nan\n",
      "Epoch 77/100\n",
      " - 0s - loss: nan\n",
      "Epoch 78/100\n",
      " - 0s - loss: nan\n",
      "Epoch 79/100\n",
      " - 0s - loss: nan\n",
      "Epoch 80/100\n",
      " - 0s - loss: nan\n",
      "Epoch 81/100\n",
      " - 0s - loss: nan\n",
      "Epoch 82/100\n",
      " - 0s - loss: nan\n",
      "Epoch 83/100\n",
      " - 0s - loss: nan\n",
      "Epoch 84/100\n",
      " - 0s - loss: nan\n",
      "Epoch 85/100\n",
      " - 0s - loss: nan\n",
      "Epoch 86/100\n",
      " - 0s - loss: nan\n",
      "Epoch 87/100\n",
      " - 0s - loss: nan\n",
      "Epoch 88/100\n",
      " - 0s - loss: nan\n",
      "Epoch 89/100\n",
      " - 0s - loss: nan\n",
      "Epoch 90/100\n",
      " - 0s - loss: nan\n",
      "Epoch 91/100\n",
      " - 0s - loss: nan\n",
      "Epoch 92/100\n",
      " - 0s - loss: nan\n",
      "Epoch 93/100\n",
      " - 0s - loss: nan\n",
      "Epoch 94/100\n",
      " - 0s - loss: nan\n",
      "Epoch 95/100\n",
      " - 0s - loss: nan\n",
      "Epoch 96/100\n",
      " - 0s - loss: nan\n",
      "Epoch 97/100\n",
      " - 0s - loss: nan\n",
      "Epoch 98/100\n",
      " - 0s - loss: nan\n",
      "Epoch 99/100\n",
      " - 0s - loss: nan\n",
      "Epoch 100/100\n",
      " - 0s - loss: nan\n"
     ]
    },
    {
     "data": {
      "text/plain": [
       "<keras.callbacks.History at 0x22479f28>"
      ]
     },
     "execution_count": 214,
     "metadata": {},
     "output_type": "execute_result"
    }
   ],
   "source": [
    "model = Sequential()\n",
    "model.add(LSTM(4, input_shape=(1, 1)))\n",
    "model.add(Dense(1))\n",
    "model.compile(loss='mean_squared_error', optimizer='adam')\n",
    "model.fit(trainX, trainY, epochs=100, batch_size=1, verbose=2)"
   ]
  },
  {
   "cell_type": "code",
   "execution_count": 215,
   "metadata": {},
   "outputs": [
    {
     "ename": "NotFittedError",
     "evalue": "This MinMaxScaler instance is not fitted yet. Call 'fit' with appropriate arguments before using this method.",
     "output_type": "error",
     "traceback": [
      "\u001b[1;31m---------------------------------------------------------------------------\u001b[0m",
      "\u001b[1;31mNotFittedError\u001b[0m                            Traceback (most recent call last)",
      "\u001b[1;32m<ipython-input-215-fe496c4153a6>\u001b[0m in \u001b[0;36m<module>\u001b[1;34m()\u001b[0m\n\u001b[0;32m      2\u001b[0m \u001b[0mtestPredict\u001b[0m \u001b[1;33m=\u001b[0m \u001b[0mmodel\u001b[0m\u001b[1;33m.\u001b[0m\u001b[0mpredict\u001b[0m\u001b[1;33m(\u001b[0m\u001b[0mtestX\u001b[0m\u001b[1;33m)\u001b[0m\u001b[1;33m\u001b[0m\u001b[0m\n\u001b[0;32m      3\u001b[0m \u001b[1;31m# invert predictions\u001b[0m\u001b[1;33m\u001b[0m\u001b[1;33m\u001b[0m\u001b[0m\n\u001b[1;32m----> 4\u001b[1;33m \u001b[0mtrainPredict\u001b[0m \u001b[1;33m=\u001b[0m \u001b[0mscaler\u001b[0m\u001b[1;33m.\u001b[0m\u001b[0minverse_transform\u001b[0m\u001b[1;33m(\u001b[0m\u001b[0mtrainPredict\u001b[0m\u001b[1;33m)\u001b[0m\u001b[1;33m\u001b[0m\u001b[0m\n\u001b[0m\u001b[0;32m      5\u001b[0m \u001b[0mtrainY\u001b[0m \u001b[1;33m=\u001b[0m \u001b[0mscaler\u001b[0m\u001b[1;33m.\u001b[0m\u001b[0minverse_transform\u001b[0m\u001b[1;33m(\u001b[0m\u001b[1;33m[\u001b[0m\u001b[0mtrainY\u001b[0m\u001b[1;33m]\u001b[0m\u001b[1;33m)\u001b[0m\u001b[1;33m\u001b[0m\u001b[0m\n\u001b[0;32m      6\u001b[0m \u001b[0mtestPredict\u001b[0m \u001b[1;33m=\u001b[0m \u001b[0mscaler\u001b[0m\u001b[1;33m.\u001b[0m\u001b[0minverse_transform\u001b[0m\u001b[1;33m(\u001b[0m\u001b[0mtestPredict\u001b[0m\u001b[1;33m)\u001b[0m\u001b[1;33m\u001b[0m\u001b[0m\n",
      "\u001b[1;32mc:\\users\\zol\\appdata\\local\\programs\\python\\python36\\lib\\site-packages\\sklearn\\preprocessing\\data.py\u001b[0m in \u001b[0;36minverse_transform\u001b[1;34m(self, X)\u001b[0m\n\u001b[0;32m    379\u001b[0m             \u001b[0mInput\u001b[0m \u001b[0mdata\u001b[0m \u001b[0mthat\u001b[0m \u001b[0mwill\u001b[0m \u001b[0mbe\u001b[0m \u001b[0mtransformed\u001b[0m\u001b[1;33m.\u001b[0m \u001b[0mIt\u001b[0m \u001b[0mcannot\u001b[0m \u001b[0mbe\u001b[0m \u001b[0msparse\u001b[0m\u001b[1;33m.\u001b[0m\u001b[1;33m\u001b[0m\u001b[0m\n\u001b[0;32m    380\u001b[0m         \"\"\"\n\u001b[1;32m--> 381\u001b[1;33m         \u001b[0mcheck_is_fitted\u001b[0m\u001b[1;33m(\u001b[0m\u001b[0mself\u001b[0m\u001b[1;33m,\u001b[0m \u001b[1;34m'scale_'\u001b[0m\u001b[1;33m)\u001b[0m\u001b[1;33m\u001b[0m\u001b[0m\n\u001b[0m\u001b[0;32m    382\u001b[0m \u001b[1;33m\u001b[0m\u001b[0m\n\u001b[0;32m    383\u001b[0m         \u001b[0mX\u001b[0m \u001b[1;33m=\u001b[0m \u001b[0mcheck_array\u001b[0m\u001b[1;33m(\u001b[0m\u001b[0mX\u001b[0m\u001b[1;33m,\u001b[0m \u001b[0mcopy\u001b[0m\u001b[1;33m=\u001b[0m\u001b[0mself\u001b[0m\u001b[1;33m.\u001b[0m\u001b[0mcopy\u001b[0m\u001b[1;33m,\u001b[0m \u001b[0mdtype\u001b[0m\u001b[1;33m=\u001b[0m\u001b[0mFLOAT_DTYPES\u001b[0m\u001b[1;33m)\u001b[0m\u001b[1;33m\u001b[0m\u001b[0m\n",
      "\u001b[1;32mc:\\users\\zol\\appdata\\local\\programs\\python\\python36\\lib\\site-packages\\sklearn\\utils\\validation.py\u001b[0m in \u001b[0;36mcheck_is_fitted\u001b[1;34m(estimator, attributes, msg, all_or_any)\u001b[0m\n\u001b[0;32m    766\u001b[0m \u001b[1;33m\u001b[0m\u001b[0m\n\u001b[0;32m    767\u001b[0m     \u001b[1;32mif\u001b[0m \u001b[1;32mnot\u001b[0m \u001b[0mall_or_any\u001b[0m\u001b[1;33m(\u001b[0m\u001b[1;33m[\u001b[0m\u001b[0mhasattr\u001b[0m\u001b[1;33m(\u001b[0m\u001b[0mestimator\u001b[0m\u001b[1;33m,\u001b[0m \u001b[0mattr\u001b[0m\u001b[1;33m)\u001b[0m \u001b[1;32mfor\u001b[0m \u001b[0mattr\u001b[0m \u001b[1;32min\u001b[0m \u001b[0mattributes\u001b[0m\u001b[1;33m]\u001b[0m\u001b[1;33m)\u001b[0m\u001b[1;33m:\u001b[0m\u001b[1;33m\u001b[0m\u001b[0m\n\u001b[1;32m--> 768\u001b[1;33m         \u001b[1;32mraise\u001b[0m \u001b[0mNotFittedError\u001b[0m\u001b[1;33m(\u001b[0m\u001b[0mmsg\u001b[0m \u001b[1;33m%\u001b[0m \u001b[1;33m{\u001b[0m\u001b[1;34m'name'\u001b[0m\u001b[1;33m:\u001b[0m \u001b[0mtype\u001b[0m\u001b[1;33m(\u001b[0m\u001b[0mestimator\u001b[0m\u001b[1;33m)\u001b[0m\u001b[1;33m.\u001b[0m\u001b[0m__name__\u001b[0m\u001b[1;33m}\u001b[0m\u001b[1;33m)\u001b[0m\u001b[1;33m\u001b[0m\u001b[0m\n\u001b[0m\u001b[0;32m    769\u001b[0m \u001b[1;33m\u001b[0m\u001b[0m\n\u001b[0;32m    770\u001b[0m \u001b[1;33m\u001b[0m\u001b[0m\n",
      "\u001b[1;31mNotFittedError\u001b[0m: This MinMaxScaler instance is not fitted yet. Call 'fit' with appropriate arguments before using this method."
     ]
    }
   ],
   "source": [
    "trainPredict = model.predict(trainX)\n",
    "testPredict = model.predict(testX)\n",
    "# invert predictions\n",
    "trainPredict = scaler.inverse_transform(trainPredict)\n",
    "trainY = scaler.inverse_transform([trainY])\n",
    "testPredict = scaler.inverse_transform(testPredict)\n",
    "testY = scaler.inverse_transform([testY])\n",
    "# calculate root mean squared error\n",
    "trainScore = math.sqrt(mean_squared_error(trainY[0], trainPredict[:,0]))\n",
    "print('Train Score: %.2f RMSE' % (trainScore))\n",
    "testScore = math.sqrt(mean_squared_error(testY[0], testPredict[:,0]))\n",
    "print('Test Score: %.2f RMSE' % (testScore))"
   ]
  },
  {
   "cell_type": "code",
   "execution_count": null,
   "metadata": {},
   "outputs": [],
   "source": [
    "trainPredictPlot = np.empty_like(dataset)\n",
    "trainPredictPlot[:, :] = np.nan\n",
    "trainPredictPlot[look_back:len(trainPredict)+look_back, :] = trainPredict\n",
    "# shift test predictions for plotting\n",
    "testPredictPlot = np.empty_like(dataset)\n",
    "testPredictPlot[:, :] = np.nan\n",
    "testPredictPlot[len(trainPredict)+(look_back*2)+1:len(dataset)-1, :] = testPredict\n",
    "\n",
    "# plot baseline and predictions\n",
    "plt.plot(scaler.inverse_transform(dataset))\n",
    "plt.plot(trainPredictPlot)\n",
    "plt.plot(testPredictPlot)\n",
    "plt.show()"
   ]
  },
  {
   "cell_type": "markdown",
   "metadata": {},
   "source": [
    "### Multivariate LSTM\n",
    "[Multivariate Time Series Forecasting with LSTMs in Keras](https://machinelearningmastery.com/multivariate-time-series-forecasting-lstms-keras/)"
   ]
  },
  {
   "cell_type": "code",
   "execution_count": 122,
   "metadata": {},
   "outputs": [
    {
     "data": {
      "image/png": "[encoded data removed]",
      "text/plain": [
       "<matplotlib.figure.Figure at 0x1a6916d8>"
      ]
     },
     "metadata": {},
     "output_type": "display_data"
    }
   ],
   "source": [
    "groups = [11, 12, 16]\n",
    "i = 1\n",
    "\n",
    "pyplot.figure()\n",
    "for group in groups:\n",
    "    pyplot.subplot(len(groups), 1, i)\n",
    "    pyplot.plot(df_input_ph.values[:, group])\n",
    "    pyplot.title(df_input_ph.columns[group], y=0.5, loc='right')\n",
    "    i += 1\n",
    "pyplot.show()"
   ]
  },
  {
   "cell_type": "code",
   "execution_count": 138,
   "metadata": {},
   "outputs": [],
   "source": [
    "def series_to_supervised(data, n_in=1, n_out=1, dropnan=True):\n",
    "    n_vars = 1 if type(data) is list else data.shape[1]\n",
    "    df = pd.DataFrame(data)\n",
    "    cols, names = list(), list()\n",
    "\n",
    "    # input sequence (t-n, ... t-1)\n",
    "    for i in range(n_in, 0, -1):\n",
    "        cols.append(df.shift(i))\n",
    "        names += [('var%d(t-%d)' % (j+1, i)) for j in range(n_vars)]\n",
    "\n",
    "    # forecast sequence (t, t+1, ... t+n)\n",
    "    for i in range(0, n_out):\n",
    "        cols.append(df.shift(-i))\n",
    "        if i == 0:\n",
    "            names += [('var%d(t)' % (j+1)) for j in range(n_vars)]\n",
    "        else:\n",
    "            names += [('var%d(t+%d)' % (j+1, i)) for j in range(n_vars)]\n",
    "\n",
    "    # put it all together\n",
    "    agg = pd.concat(cols, axis=1)\n",
    "    agg.columns = names\n",
    "\n",
    "    # drop rows with NaN values\n",
    "    if dropnan:\n",
    "        agg.dropna(inplace=True)\n",
    "    return agg"
   ]
  },
  {
   "cell_type": "code",
   "execution_count": 146,
   "metadata": {},
   "outputs": [],
   "source": [
    "reframed = series_to_supervised(df_input_ph[['elapsed_days', 'is_workday', 'moving_avg_norm']], 1, 1)"
   ]
  },
  {
   "cell_type": "code",
   "execution_count": 147,
   "metadata": {},
   "outputs": [
    {
     "data": {
      "text/html": [
       "<div>\n",
       "<style scoped>\n",
       "    .dataframe tbody tr th:only-of-type {\n",
       "        vertical-align: middle;\n",
       "    }\n",
       "\n",
       "    .dataframe tbody tr th {\n",
       "        vertical-align: top;\n",
       "    }\n",
       "\n",
       "    .dataframe thead th {\n",
       "        text-align: right;\n",
       "    }\n",
       "</style>\n",
       "<table border=\"1\" class=\"dataframe\">\n",
       "  <thead>\n",
       "    <tr style=\"text-align: right;\">\n",
       "      <th></th>\n",
       "      <th>var1(t-1)</th>\n",
       "      <th>var2(t-1)</th>\n",
       "      <th>var3(t-1)</th>\n",
       "      <th>var1(t)</th>\n",
       "      <th>var2(t)</th>\n",
       "      <th>var3(t)</th>\n",
       "    </tr>\n",
       "  </thead>\n",
       "  <tbody>\n",
       "    <tr>\n",
       "      <th>15</th>\n",
       "      <td>6740.00000000</td>\n",
       "      <td>1.00000000</td>\n",
       "      <td>0.21703903</td>\n",
       "      <td>6741</td>\n",
       "      <td>1</td>\n",
       "      <td>0.19086770</td>\n",
       "    </tr>\n",
       "    <tr>\n",
       "      <th>16</th>\n",
       "      <td>6741.00000000</td>\n",
       "      <td>1.00000000</td>\n",
       "      <td>0.19086770</td>\n",
       "      <td>6742</td>\n",
       "      <td>1</td>\n",
       "      <td>0.18993382</td>\n",
       "    </tr>\n",
       "    <tr>\n",
       "      <th>17</th>\n",
       "      <td>6742.00000000</td>\n",
       "      <td>1.00000000</td>\n",
       "      <td>0.18993382</td>\n",
       "      <td>6743</td>\n",
       "      <td>0</td>\n",
       "      <td>0.27679796</td>\n",
       "    </tr>\n",
       "  </tbody>\n",
       "</table>\n",
       "</div>"
      ],
      "text/plain": [
       "       var1(t-1)  var2(t-1)  var3(t-1)  var1(t)  var2(t)    var3(t)\n",
       "15 6740.00000000 1.00000000 0.21703903     6741        1 0.19086770\n",
       "16 6741.00000000 1.00000000 0.19086770     6742        1 0.18993382\n",
       "17 6742.00000000 1.00000000 0.18993382     6743        0 0.27679796"
      ]
     },
     "execution_count": 147,
     "metadata": {},
     "output_type": "execute_result"
    }
   ],
   "source": [
    "reframed[:3]"
   ]
  },
  {
   "cell_type": "code",
   "execution_count": 173,
   "metadata": {},
   "outputs": [
    {
     "name": "stdout",
     "output_type": "stream",
     "text": [
      "(161, 1, 5) (161,) (137, 1, 5) (137,)\n"
     ]
    }
   ],
   "source": [
    "train_size = int(len(df_input_ph) * 0.67)\n",
    "test_size = len(df_input_ph) - train_size\n",
    "\n",
    "train = reframed[:train_size].values\n",
    "test = reframed[test_size:].values\n",
    "\n",
    "# split into input and outputs\n",
    "train_X, train_y = train[:, :-1], train[:, -1]\n",
    "test_X, test_y = test[:, :-1], test[:, -1]\n",
    "\n",
    "# reshape input to be 3D [samples, timesteps, features]\n",
    "train_X = train_X.reshape((train_X.shape[0], 1, train_X.shape[1]))\n",
    "test_X = test_X.reshape((test_X.shape[0], 1, test_X.shape[1]))\n",
    "\n",
    "print(train_X.shape, train_y.shape, test_X.shape, test_y.shape)"
   ]
  },
  {
   "cell_type": "code",
   "execution_count": 167,
   "metadata": {
    "scrolled": false
   },
   "outputs": [
    {
     "name": "stdout",
     "output_type": "stream",
     "text": [
      "Train on 161 samples, validate on 137 samples\n",
      "Epoch 1/50\n",
      " - 2s - loss: 0.5600 - val_loss: 0.6899\n",
      "Epoch 2/50\n",
      " - 0s - loss: 0.5387 - val_loss: 0.6687\n",
      "Epoch 3/50\n",
      " - 0s - loss: 0.5174 - val_loss: 0.6474\n",
      "Epoch 4/50\n",
      " - 0s - loss: 0.4961 - val_loss: 0.6261\n",
      "Epoch 5/50\n",
      " - 0s - loss: 0.4749 - val_loss: 0.6048\n",
      "Epoch 6/50\n",
      " - 0s - loss: 0.4536 - val_loss: 0.5835\n",
      "Epoch 7/50\n",
      " - 0s - loss: 0.4322 - val_loss: 0.5622\n",
      "Epoch 8/50\n",
      " - 0s - loss: 0.4110 - val_loss: 0.5409\n",
      "Epoch 9/50\n",
      " - 0s - loss: 0.3897 - val_loss: 0.5196\n",
      "Epoch 10/50\n",
      " - 0s - loss: 0.3683 - val_loss: 0.4982\n",
      "Epoch 11/50\n",
      " - 0s - loss: 0.3470 - val_loss: 0.4769\n",
      "Epoch 12/50\n",
      " - 0s - loss: 0.3257 - val_loss: 0.4556\n",
      "Epoch 13/50\n",
      " - 0s - loss: 0.3043 - val_loss: 0.4341\n",
      "Epoch 14/50\n",
      " - 0s - loss: 0.2829 - val_loss: 0.4129\n",
      "Epoch 15/50\n",
      " - 0s - loss: 0.2616 - val_loss: 0.3916\n",
      "Epoch 16/50\n",
      " - 0s - loss: 0.2403 - val_loss: 0.3703\n",
      "Epoch 17/50\n",
      " - 0s - loss: 0.2191 - val_loss: 0.3490\n",
      "Epoch 18/50\n",
      " - 0s - loss: 0.1978 - val_loss: 0.3277\n",
      "Epoch 19/50\n",
      " - 0s - loss: 0.1768 - val_loss: 0.3070\n",
      "Epoch 20/50\n",
      " - 0s - loss: 0.1568 - val_loss: 0.2866\n",
      "Epoch 21/50\n",
      " - 0s - loss: 0.1381 - val_loss: 0.2666\n",
      "Epoch 22/50\n",
      " - 0s - loss: 0.1207 - val_loss: 0.2471\n",
      "Epoch 23/50\n",
      " - 0s - loss: 0.1064 - val_loss: 0.2286\n",
      "Epoch 24/50\n",
      " - 0s - loss: 0.0967 - val_loss: 0.2115\n",
      "Epoch 25/50\n",
      " - 0s - loss: 0.0897 - val_loss: 0.1962\n",
      "Epoch 26/50\n",
      " - 0s - loss: 0.0846 - val_loss: 0.1828\n",
      "Epoch 27/50\n",
      " - 0s - loss: 0.0829 - val_loss: 0.1723\n",
      "Epoch 28/50\n",
      " - 0s - loss: 0.0831 - val_loss: 0.1640\n",
      "Epoch 29/50\n",
      " - 0s - loss: 0.0840 - val_loss: 0.1573\n",
      "Epoch 30/50\n",
      " - 0s - loss: 0.0850 - val_loss: 0.1517\n",
      "Epoch 31/50\n",
      " - 0s - loss: 0.0857 - val_loss: 0.1471\n",
      "Epoch 32/50\n",
      " - 0s - loss: 0.0865 - val_loss: 0.1431\n",
      "Epoch 33/50\n",
      " - 0s - loss: 0.0871 - val_loss: 0.1397\n",
      "Epoch 34/50\n",
      " - 0s - loss: 0.0877 - val_loss: 0.1368\n",
      "Epoch 35/50\n",
      " - 0s - loss: 0.0884 - val_loss: 0.1345\n",
      "Epoch 36/50\n",
      " - 0s - loss: 0.0890 - val_loss: 0.1328\n",
      "Epoch 37/50\n",
      " - 0s - loss: 0.0895 - val_loss: 0.1316\n",
      "Epoch 38/50\n",
      " - 0s - loss: 0.0899 - val_loss: 0.1308\n",
      "Epoch 39/50\n",
      " - 0s - loss: 0.0901 - val_loss: 0.1304\n",
      "Epoch 40/50\n",
      " - 0s - loss: 0.0903 - val_loss: 0.1302\n",
      "Epoch 41/50\n",
      " - 0s - loss: 0.0903 - val_loss: 0.1303\n",
      "Epoch 42/50\n",
      " - 0s - loss: 0.0903 - val_loss: 0.1306\n",
      "Epoch 43/50\n",
      " - 0s - loss: 0.0903 - val_loss: 0.1310\n",
      "Epoch 44/50\n",
      " - 0s - loss: 0.0902 - val_loss: 0.1314\n",
      "Epoch 45/50\n",
      " - 0s - loss: 0.0901 - val_loss: 0.1319\n",
      "Epoch 46/50\n",
      " - 0s - loss: 0.0900 - val_loss: 0.1322\n",
      "Epoch 47/50\n",
      " - 0s - loss: 0.0899 - val_loss: 0.1325\n",
      "Epoch 48/50\n",
      " - 0s - loss: 0.0898 - val_loss: 0.1327\n",
      "Epoch 49/50\n",
      " - 0s - loss: 0.0897 - val_loss: 0.1328\n",
      "Epoch 50/50\n",
      " - 0s - loss: 0.0897 - val_loss: 0.1329\n"
     ]
    }
   ],
   "source": [
    "model = Sequential()\n",
    "model.add(LSTM(50, input_shape=(train_X.shape[1], train_X.shape[2])))\n",
    "model.add(Dense(1))\n",
    "model.compile(loss='mae', optimizer='adam')\n",
    "# fit network\n",
    "history = model.fit(train_X, train_y, epochs=50, batch_size=72, validation_data=(test_X, test_y), verbose=2, shuffle=False)"
   ]
  },
  {
   "cell_type": "code",
   "execution_count": 168,
   "metadata": {},
   "outputs": [
    {
     "data": {
      "image/png": "[encoded data removed]",
      "text/plain": [
       "<matplotlib.figure.Figure at 0x1eb00eb8>"
      ]
     },
     "metadata": {},
     "output_type": "display_data"
    }
   ],
   "source": [
    "# plot history\n",
    "pyplot.plot(history.history['loss'], label='train')\n",
    "pyplot.plot(history.history['val_loss'], label='test')\n",
    "pyplot.legend()\n",
    "pyplot.show()"
   ]
  },
  {
   "cell_type": "code",
   "execution_count": 174,
   "metadata": {},
   "outputs": [
    {
     "name": "stdout",
     "output_type": "stream",
     "text": [
      "Test RMSE: 2400677411.714\n"
     ]
    }
   ],
   "source": [
    "yhat = model.predict(test_X)\n",
    "test_X = test_X.reshape((test_X.shape[0], test_X.shape[2]))\n",
    "\n",
    "# invert scaling for forecast\n",
    "inv_yhat = np.concatenate((yhat, test_X[:, 1:]), axis=1)\n",
    "#inv_yhat = scaler.inverse_transform(inv_yhat)\n",
    "inv_yhat = inv_yhat * (ma_max - ma_min) + ma_min\n",
    "inv_yhat = inv_yhat[:,0]\n",
    "\n",
    "# invert scaling for actual\n",
    "test_y = test_y.reshape((len(test_y), 1))\n",
    "inv_y = np.concatenate((test_y, test_X[:, 1:]), axis=1)\n",
    "#inv_y = scaler.inverse_transform(inv_y)\n",
    "inv_y = inv_y * (ma_max - ma_min) + ma_min\n",
    "inv_y = inv_y[:,0]\n",
    "\n",
    "# calculate RMSE\n",
    "rmse = np.sqrt(mean_squared_error(inv_y, inv_yhat))\n",
    "print('Test RMSE: %.3f' % rmse)"
   ]
  },
  {
   "cell_type": "code",
   "execution_count": 177,
   "metadata": {},
   "outputs": [
    {
     "data": {
      "image/png": "[encoded data removed]",
      "text/plain": [
       "<matplotlib.figure.Figure at 0x2280cac8>"
      ]
     },
     "metadata": {},
     "output_type": "display_data"
    }
   ],
   "source": [
    "plt.plot(df_input_ph[['moving_avg']])\n",
    "#plt.plot(trainPredictPlot)\n",
    "plt.plot(inv_yhat)\n",
    "plt.show()"
   ]
  },
  {
   "cell_type": "code",
   "execution_count": null,
   "metadata": {},
   "outputs": [],
   "source": []
  }
 ],
 "metadata": {
  "kernelspec": {
   "display_name": "Python 3",
   "language": "python",
   "name": "python3"
  },
  "language_info": {
   "codemirror_mode": {
    "name": "ipython",
    "version": 3
   },
   "file_extension": ".py",
   "mimetype": "text/x-python",
   "name": "python",
   "nbconvert_exporter": "python",
   "pygments_lexer": "ipython3",
   "version": "3.6.2"
  },
  "toc": {
   "base_numbering": 1,
   "nav_menu": {},
   "number_sections": true,
   "sideBar": true,
   "skip_h1_title": true,
   "title_cell": "Table of Contents",
   "title_sidebar": "Contents",
   "toc_cell": false,
   "toc_position": {
    "height": "calc(100% - 180px)",
    "left": "10px",
    "top": "150px",
    "width": "220px"
   },
   "toc_section_display": true,
   "toc_window_display": true
  }
 },
 "nbformat": 4,
 "nbformat_minor": 2
}
