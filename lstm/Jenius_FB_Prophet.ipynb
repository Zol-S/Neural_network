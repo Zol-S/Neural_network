{
 "cells": [
  {
   "cell_type": "markdown",
   "metadata": {},
   "source": [
    "# Jenius - Facebook Prophet\n",
    "Forecasting for Jenius, digital bank in Indonesia\n",
    "\n",
    "Forecast 5 models the following KPIs, that they'll use for strategic planning\n",
    "- Balance\n",
    "- Approved customers\n",
    "- Funded customers\n",
    "- New approved customers: shows the number of the new approved customers for each day. Once a customer downloads the bank's application, they need to get through the KYC (\"know your customer\") process, which means that a representative of a bank should see the customer at least once\n",
    "- Balance forecast\n",
    "\n",
    "Additional data sources:\n",
    "- non-working days (weekends, national holidays)\n",
    "- paydays\n",
    "- dates of campaigns\n",
    "\n",
    "Deliverables:\n",
    "- models for the 5 KPIs\n",
    "- fancy visualizations of the predictions\n",
    "- raw data in Excel format"
   ]
  },
  {
   "cell_type": "code",
   "execution_count": 1,
   "metadata": {},
   "outputs": [],
   "source": [
    "import math\n",
    "import random\n",
    "import warnings\n",
    "import numpy as np\n",
    "import pandas as pd\n",
    "import seaborn as sns\n",
    "from fbprophet import Prophet\n",
    "from matplotlib import pyplot\n",
    "\n",
    "warnings.filterwarnings(\"ignore\")\n",
    "\n",
    "random.seed(1)\n",
    "\n",
    "sns.set(rc={'figure.figsize': (18, 6)})"
   ]
  },
  {
   "cell_type": "code",
   "execution_count": 2,
   "metadata": {},
   "outputs": [],
   "source": [
    "def reduce_memory_usage(df, verbose=True): \n",
    "    numerics = ['int16', 'int32', 'int64', 'float16', 'float32', 'float64'] \n",
    "    start_mem = df.memory_usage().sum() / 1024**2 \n",
    "    if verbose: print('Starting memory usage: {:5.2f} MB'.format(start_mem))\n",
    "\n",
    "    for col in df.columns: \n",
    "        col_type = df[col].dtypes \n",
    "        if col_type in numerics: \n",
    "            c_min = df[col].min() \n",
    "            c_max = df[col].max() \n",
    "            if str(col_type)[:3] == 'int': \n",
    "                if c_min >= np.iinfo(np.int8).min and c_max <= np.iinfo(np.int8).max: \n",
    "                    df[col] = df[col].astype(np.int8) \n",
    "                elif c_min >= np.iinfo(np.int16).min and c_max <= np.iinfo(np.int16).max: \n",
    "                    df[col] = df[col].astype(np.int16) \n",
    "                elif c_min >= np.iinfo(np.int32).min and c_max <= np.iinfo(np.int32).max: \n",
    "                    df[col] = df[col].astype(np.int32) \n",
    "                elif c_min >= np.iinfo(np.int64).min and c_max <= np.iinfo(np.int64).max: \n",
    "                    df[col] = df[col].astype(np.int64)   \n",
    "                else: \n",
    "                    if c_min >= np.finfo(np.float16).min and c_max <= np.finfo(np.float16).max: \n",
    "                        df[col] = df[col].astype(np.float16) \n",
    "                    elif c_min >= np.finfo(np.float32).min and c_max <= np.finfo(np.float32).max: \n",
    "                        df[col] = df[col].astype(np.float32) \n",
    "                    else: \n",
    "                        df[col] = df[col].astype(np.float64)     \n",
    "        end_mem = df.memory_usage().sum() / 1024**2 \n",
    "        if verbose: print('Reduced memory usage: {:5.2f} MB ({:.1f}% reduction)'.format(end_mem, 100 * (start_mem - end_mem) / start_mem)) \n",
    "        return df"
   ]
  },
  {
   "cell_type": "markdown",
   "metadata": {},
   "source": [
    "## Exploratory Data Analysis"
   ]
  },
  {
   "cell_type": "code",
   "execution_count": 12,
   "metadata": {},
   "outputs": [
    {
     "name": "stdout",
     "output_type": "stream",
     "text": [
      "241 records and 2 features in train set.\n",
      "Starting memory usage:  0.00 MB\n",
      "Reduced memory usage:  0.00 MB (0.0% reduction)\n"
     ]
    }
   ],
   "source": [
    "df_input = pd.read_csv('input/input.csv', sep=';', engine='python')\n",
    "print(\"{:,} records and {} features in train set.\".format(df_input.shape[0], df_input.shape[1]))\n",
    "\n",
    "df_input = reduce_memory_usage(df_input)"
   ]
  },
  {
   "cell_type": "code",
   "execution_count": 13,
   "metadata": {},
   "outputs": [
    {
     "data": {
      "text/html": [
       "<div>\n",
       "<style scoped>\n",
       "    .dataframe tbody tr th:only-of-type {\n",
       "        vertical-align: middle;\n",
       "    }\n",
       "\n",
       "    .dataframe tbody tr th {\n",
       "        vertical-align: top;\n",
       "    }\n",
       "\n",
       "    .dataframe thead th {\n",
       "        text-align: right;\n",
       "    }\n",
       "</style>\n",
       "<table border=\"1\" class=\"dataframe\">\n",
       "  <thead>\n",
       "    <tr style=\"text-align: right;\">\n",
       "      <th></th>\n",
       "      <th>buss_date</th>\n",
       "      <th>balance</th>\n",
       "    </tr>\n",
       "  </thead>\n",
       "  <tbody>\n",
       "    <tr>\n",
       "      <th>0</th>\n",
       "      <td>2018.06.01</td>\n",
       "      <td>934,075,825,517</td>\n",
       "    </tr>\n",
       "    <tr>\n",
       "      <th>1</th>\n",
       "      <td>2018.06.02</td>\n",
       "      <td>929,958,070,324</td>\n",
       "    </tr>\n",
       "    <tr>\n",
       "      <th>2</th>\n",
       "      <td>2018.06.03</td>\n",
       "      <td>925,557,302,415</td>\n",
       "    </tr>\n",
       "  </tbody>\n",
       "</table>\n",
       "</div>"
      ],
      "text/plain": [
       "    buss_date         balance\n",
       "0  2018.06.01 934,075,825,517\n",
       "1  2018.06.02 929,958,070,324\n",
       "2  2018.06.03 925,557,302,415"
      ]
     },
     "execution_count": 13,
     "metadata": {},
     "output_type": "execute_result"
    }
   ],
   "source": [
    "pd.options.display.float_format = '{:,.0f}'.format\n",
    "df_input[:3]"
   ]
  },
  {
   "cell_type": "markdown",
   "metadata": {},
   "source": [
    "## Time series prediction"
   ]
  },
  {
   "cell_type": "markdown",
   "metadata": {},
   "source": [
    "### Facebook's prophet\n",
    "[Facebook's prophet](https://facebook.github.io/prophet/docs/quick_start.html#python-api)"
   ]
  },
  {
   "cell_type": "code",
   "execution_count": 14,
   "metadata": {},
   "outputs": [],
   "source": [
    "df_fbp = df_input[['buss_date', 'balance']].rename(index=str, columns={\"buss_date\": \"ds\", \"balance\": \"y\"})"
   ]
  },
  {
   "cell_type": "code",
   "execution_count": 15,
   "metadata": {},
   "outputs": [
    {
     "data": {
      "text/html": [
       "<div>\n",
       "<style scoped>\n",
       "    .dataframe tbody tr th:only-of-type {\n",
       "        vertical-align: middle;\n",
       "    }\n",
       "\n",
       "    .dataframe tbody tr th {\n",
       "        vertical-align: top;\n",
       "    }\n",
       "\n",
       "    .dataframe thead th {\n",
       "        text-align: right;\n",
       "    }\n",
       "</style>\n",
       "<table border=\"1\" class=\"dataframe\">\n",
       "  <thead>\n",
       "    <tr style=\"text-align: right;\">\n",
       "      <th></th>\n",
       "      <th>ds</th>\n",
       "      <th>y</th>\n",
       "    </tr>\n",
       "  </thead>\n",
       "  <tbody>\n",
       "    <tr>\n",
       "      <th>0</th>\n",
       "      <td>2018.06.01</td>\n",
       "      <td>934,075,825,517</td>\n",
       "    </tr>\n",
       "    <tr>\n",
       "      <th>1</th>\n",
       "      <td>2018.06.02</td>\n",
       "      <td>929,958,070,324</td>\n",
       "    </tr>\n",
       "    <tr>\n",
       "      <th>2</th>\n",
       "      <td>2018.06.03</td>\n",
       "      <td>925,557,302,415</td>\n",
       "    </tr>\n",
       "  </tbody>\n",
       "</table>\n",
       "</div>"
      ],
      "text/plain": [
       "           ds               y\n",
       "0  2018.06.01 934,075,825,517\n",
       "1  2018.06.02 929,958,070,324\n",
       "2  2018.06.03 925,557,302,415"
      ]
     },
     "execution_count": 15,
     "metadata": {},
     "output_type": "execute_result"
    }
   ],
   "source": [
    "df_fbp[:3]"
   ]
  },
  {
   "cell_type": "code",
   "execution_count": 16,
   "metadata": {},
   "outputs": [
    {
     "name": "stderr",
     "output_type": "stream",
     "text": [
      "INFO:fbprophet:Disabling yearly seasonality. Run prophet with yearly_seasonality=True to override this.\n",
      "INFO:fbprophet:Disabling daily seasonality. Run prophet with daily_seasonality=True to override this.\n"
     ]
    },
    {
     "data": {
      "text/plain": [
       "<fbprophet.forecaster.Prophet at 0x7fc821c86dd8>"
      ]
     },
     "execution_count": 16,
     "metadata": {},
     "output_type": "execute_result"
    }
   ],
   "source": [
    "m = Prophet()\n",
    "m.fit(df_fbp)"
   ]
  },
  {
   "cell_type": "code",
   "execution_count": 17,
   "metadata": {},
   "outputs": [
    {
     "data": {
      "text/html": [
       "<div>\n",
       "<style scoped>\n",
       "    .dataframe tbody tr th:only-of-type {\n",
       "        vertical-align: middle;\n",
       "    }\n",
       "\n",
       "    .dataframe tbody tr th {\n",
       "        vertical-align: top;\n",
       "    }\n",
       "\n",
       "    .dataframe thead th {\n",
       "        text-align: right;\n",
       "    }\n",
       "</style>\n",
       "<table border=\"1\" class=\"dataframe\">\n",
       "  <thead>\n",
       "    <tr style=\"text-align: right;\">\n",
       "      <th></th>\n",
       "      <th>ds</th>\n",
       "    </tr>\n",
       "  </thead>\n",
       "  <tbody>\n",
       "    <tr>\n",
       "      <th>601</th>\n",
       "      <td>2020-01-27</td>\n",
       "    </tr>\n",
       "    <tr>\n",
       "      <th>602</th>\n",
       "      <td>2020-01-28</td>\n",
       "    </tr>\n",
       "    <tr>\n",
       "      <th>603</th>\n",
       "      <td>2020-01-29</td>\n",
       "    </tr>\n",
       "    <tr>\n",
       "      <th>604</th>\n",
       "      <td>2020-01-30</td>\n",
       "    </tr>\n",
       "    <tr>\n",
       "      <th>605</th>\n",
       "      <td>2020-01-31</td>\n",
       "    </tr>\n",
       "  </tbody>\n",
       "</table>\n",
       "</div>"
      ],
      "text/plain": [
       "            ds\n",
       "601 2020-01-27\n",
       "602 2020-01-28\n",
       "603 2020-01-29\n",
       "604 2020-01-30\n",
       "605 2020-01-31"
      ]
     },
     "execution_count": 17,
     "metadata": {},
     "output_type": "execute_result"
    }
   ],
   "source": [
    "future = m.make_future_dataframe(periods=365)\n",
    "future.tail()"
   ]
  },
  {
   "cell_type": "code",
   "execution_count": 18,
   "metadata": {},
   "outputs": [
    {
     "data": {
      "text/html": [
       "<div>\n",
       "<style scoped>\n",
       "    .dataframe tbody tr th:only-of-type {\n",
       "        vertical-align: middle;\n",
       "    }\n",
       "\n",
       "    .dataframe tbody tr th {\n",
       "        vertical-align: top;\n",
       "    }\n",
       "\n",
       "    .dataframe thead th {\n",
       "        text-align: right;\n",
       "    }\n",
       "</style>\n",
       "<table border=\"1\" class=\"dataframe\">\n",
       "  <thead>\n",
       "    <tr style=\"text-align: right;\">\n",
       "      <th></th>\n",
       "      <th>ds</th>\n",
       "      <th>yhat</th>\n",
       "      <th>yhat_lower</th>\n",
       "      <th>yhat_upper</th>\n",
       "    </tr>\n",
       "  </thead>\n",
       "  <tbody>\n",
       "    <tr>\n",
       "      <th>601</th>\n",
       "      <td>2020-01-27</td>\n",
       "      <td>4,584,098,765,725</td>\n",
       "      <td>4,307,910,258,436</td>\n",
       "      <td>4,890,907,384,248</td>\n",
       "    </tr>\n",
       "    <tr>\n",
       "      <th>602</th>\n",
       "      <td>2020-01-28</td>\n",
       "      <td>4,587,671,087,950</td>\n",
       "      <td>4,301,918,179,307</td>\n",
       "      <td>4,896,343,974,645</td>\n",
       "    </tr>\n",
       "    <tr>\n",
       "      <th>603</th>\n",
       "      <td>2020-01-29</td>\n",
       "      <td>4,596,693,512,772</td>\n",
       "      <td>4,320,709,254,298</td>\n",
       "      <td>4,901,623,120,590</td>\n",
       "    </tr>\n",
       "    <tr>\n",
       "      <th>604</th>\n",
       "      <td>2020-01-30</td>\n",
       "      <td>4,603,703,495,874</td>\n",
       "      <td>4,323,196,148,692</td>\n",
       "      <td>4,923,803,073,844</td>\n",
       "    </tr>\n",
       "    <tr>\n",
       "      <th>605</th>\n",
       "      <td>2020-01-31</td>\n",
       "      <td>4,609,836,857,941</td>\n",
       "      <td>4,320,073,915,005</td>\n",
       "      <td>4,919,222,960,949</td>\n",
       "    </tr>\n",
       "  </tbody>\n",
       "</table>\n",
       "</div>"
      ],
      "text/plain": [
       "            ds              yhat        yhat_lower        yhat_upper\n",
       "601 2020-01-27 4,584,098,765,725 4,307,910,258,436 4,890,907,384,248\n",
       "602 2020-01-28 4,587,671,087,950 4,301,918,179,307 4,896,343,974,645\n",
       "603 2020-01-29 4,596,693,512,772 4,320,709,254,298 4,901,623,120,590\n",
       "604 2020-01-30 4,603,703,495,874 4,323,196,148,692 4,923,803,073,844\n",
       "605 2020-01-31 4,609,836,857,941 4,320,073,915,005 4,919,222,960,949"
      ]
     },
     "execution_count": 18,
     "metadata": {},
     "output_type": "execute_result"
    }
   ],
   "source": [
    "forecast = m.predict(future)\n",
    "forecast[['ds', 'yhat', 'yhat_lower', 'yhat_upper']].tail()"
   ]
  },
  {
   "cell_type": "code",
   "execution_count": 19,
   "metadata": {},
   "outputs": [
    {
     "data": {
      "image/png": "[encoded data removed]",
      "text/plain": [
       "<matplotlib.figure.Figure at 0x7fc821d2bf28>"
      ]
     },
     "metadata": {},
     "output_type": "display_data"
    }
   ],
   "source": [
    "fig1 = m.plot(forecast)"
   ]
  },
  {
   "cell_type": "code",
   "execution_count": 20,
   "metadata": {},
   "outputs": [
    {
     "data": {
      "image/png": "[encoded data removed]",
      "text/plain": [
       "<matplotlib.figure.Figure at 0x7fc821398278>"
      ]
     },
     "metadata": {},
     "output_type": "display_data"
    }
   ],
   "source": [
    "fig2 = m.plot_components(forecast)"
   ]
  },
  {
   "cell_type": "code",
   "execution_count": null,
   "metadata": {},
   "outputs": [],
   "source": [
    "forecast.to_csv('output/fbprophet_forecast.csv')"
   ]
  }
 ],
 "metadata": {
  "kernelspec": {
   "display_name": "Python 3",
   "language": "python",
   "name": "python3"
  },
  "language_info": {
   "codemirror_mode": {
    "name": "ipython",
    "version": 3
   },
   "file_extension": ".py",
   "mimetype": "text/x-python",
   "name": "python",
   "nbconvert_exporter": "python",
   "pygments_lexer": "ipython3",
   "version": "3.6.0"
  },
  "toc": {
   "base_numbering": 1,
   "nav_menu": {},
   "number_sections": true,
   "sideBar": true,
   "skip_h1_title": true,
   "title_cell": "Table of Contents",
   "title_sidebar": "Contents",
   "toc_cell": false,
   "toc_position": {
    "height": "calc(100% - 180px)",
    "left": "10px",
    "top": "150px",
    "width": "220px"
   },
   "toc_section_display": true,
   "toc_window_display": false
  }
 },
 "nbformat": 4,
 "nbformat_minor": 2
}
